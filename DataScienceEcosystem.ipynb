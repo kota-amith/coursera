{
 "cells": [
  {
   "cell_type": "markdown",
   "id": "8187904e",
   "metadata": {},
   "source": [
    "# Data Science Tools and Ecosystem"
   ]
  },
  {
   "attachments": {},
   "cell_type": "markdown",
   "id": "9075ed6e",
   "metadata": {},
   "source": [
    "In this notebook, Data Science Tools and Ecosystem are summarized."
   ]
  },
  {
   "cell_type": "markdown",
   "id": "3d5fd086",
   "metadata": {},
   "source": [
    "## some of the popular languages that Data scientists use are:\n",
    "1. **Python**\n",
    "2. **R**\n",
    "3. **C**\n",
    "4. **SQL**"
   ]
  },
  {
   "cell_type": "markdown",
   "id": "1a734410",
   "metadata": {},
   "source": [
    "**Objectives:**\n",
    "- Explore popular languages for Data Science.\n",
    "- Understand commonly used libraries in Data Science.\n",
    "- Introduce key development environment tools.\n",
    "- Discuss arithmetic expressions\n",
    "- Showcase the conversion of minutes to hours "
   ]
  },
  {
   "cell_type": "markdown",
   "id": "acb4f42e",
   "metadata": {},
   "source": [
    "## some of the commonly used libraries that Data scientists use are:\n",
    "1. **NumPy**\n",
    "2. **Pandas**\n",
    "3. **Matplotlib**\n",
    "4. **TensorFlow**"
   ]
  },
  {
   "cell_type": "markdown",
   "id": "ee823340",
   "metadata": {},
   "source": [
    "| Data Science Tools  |\n",
    "|---------------------|\n",
    "|Jupyter Notebooks    |\n",
    "|Rstudio              |\n",
    "|VS code              |"
   ]
  },
  {
   "cell_type": "markdown",
   "id": "bc489b1c",
   "metadata": {},
   "source": [
    "### Below are a few example of evaluating arithmetic expressions in python:"
   ]
  },
  {
   "cell_type": "code",
   "execution_count": 2,
   "id": "d7da8838",
   "metadata": {},
   "outputs": [
    {
     "data": {
      "text/plain": [
       "17"
      ]
     },
     "execution_count": 2,
     "metadata": {},
     "output_type": "execute_result"
    }
   ],
   "source": [
    "#This a simple arithmetic expression to mutiply then add integers\n",
    "(3*4)+5\n"
   ]
  },
  {
   "cell_type": "code",
   "execution_count": 3,
   "id": "75015de8",
   "metadata": {},
   "outputs": [
    {
     "data": {
      "text/plain": [
       "3.3333333333333335"
      ]
     },
     "execution_count": 3,
     "metadata": {},
     "output_type": "execute_result"
    }
   ],
   "source": [
    "# This will convert 200 minutes to hours by diving by 60\n",
    "minutes=200\n",
    "hours=minutes/60\n",
    "hours"
   ]
  },
  {
   "cell_type": "markdown",
   "id": "77d45627",
   "metadata": {},
   "source": [
    "## Author\n",
    "Kota Amith"
   ]
  },
  {
   "cell_type": "code",
   "execution_count": null,
   "id": "aa9a2146",
   "metadata": {},
   "outputs": [],
   "source": []
  }
 ],
 "metadata": {
  "kernelspec": {
   "display_name": "Python 3 (ipykernel)",
   "language": "python",
   "name": "python3"
  },
  "language_info": {
   "codemirror_mode": {
    "name": "ipython",
    "version": 3
   },
   "file_extension": ".py",
   "mimetype": "text/x-python",
   "name": "python",
   "nbconvert_exporter": "python",
   "pygments_lexer": "ipython3",
   "version": "3.10.9"
  }
 },
 "nbformat": 4,
 "nbformat_minor": 5
}
